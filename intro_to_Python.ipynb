{
 "cells": [
  {
   "cell_type": "code",
   "execution_count": null,
   "metadata": {},
   "outputs": [],
   "source": [
    "# Source: Jacek Generowicz\n",
    "\n",
    "############### Python is interactive ##################################\n",
    "\n",
    "# You can interact with a running Python program and define and use\n",
    "# new functions and classes interactively. This is extremely useful\n",
    "# for experimenting and gaining an understanding of how your program\n",
    "# works.\n",
    "\n",
    "# Try\n",
    "#\n",
    "#     python \n",
    "# or\n",
    "#     python -i program.py\n",
    "#\n",
    "# This should give you the Python prompt '>>>' which will run any\n",
    "# python code you type.\n",
    "\n",
    "############### Python is dynamically typed ############################\n",
    "\n",
    "# Type checking is performed at run-time rather than compile\n",
    "# time.\n",
    "\n",
    "# Objects know their own type; variables do not know the type of\n",
    "# object they contain.\n",
    "\n",
    "# The type of the data stored in a variable may change at\n",
    "# run-time. There are no type declarations."
   ]
  },
  {
   "cell_type": "code",
   "execution_count": null,
   "metadata": {},
   "outputs": [],
   "source": [
    "# We use the variable 'a' without declaration.\n",
    "a = 1"
   ]
  },
  {
   "cell_type": "code",
   "execution_count": null,
   "metadata": {},
   "outputs": [],
   "source": [
    "print(type(1))"
   ]
  },
  {
   "cell_type": "code",
   "execution_count": null,
   "metadata": {},
   "outputs": [],
   "source": [
    "type(1)"
   ]
  },
  {
   "cell_type": "code",
   "execution_count": null,
   "metadata": {},
   "outputs": [],
   "source": [
    "# We can change the type of object stored in 'a' to a completely\n",
    "# unrelated type.\n",
    "a = 'hello'\n",
    "print(type(a))"
   ]
  },
  {
   "cell_type": "code",
   "execution_count": null,
   "metadata": {},
   "outputs": [],
   "source": [
    "############### Block structure #######################################\n",
    "\n",
    "# Python determines block structure by indentation.\n",
    "if True:\n",
    "    print(\"line one\")   # First line of consequent block\n",
    "    print(\"line two\")\n",
    "    print(\"line three\") # Last line of consequent block\n",
    "else:\n",
    "    print(\"line four\")  # First line of alternative block\n",
    "    print(\"line five\")\n",
    "    print(\"line six\")\n",
    "    print(\"line seven\") # Last line of alternative block"
   ]
  },
  {
   "cell_type": "code",
   "execution_count": null,
   "metadata": {},
   "outputs": [],
   "source": [
    "############### Python functions #######################################\n",
    "\n",
    "# Python functions are defined using the 'def' keyword.\n",
    "def add3(a,b,c):\n",
    "    return a + b + c"
   ]
  },
  {
   "cell_type": "code",
   "execution_count": null,
   "metadata": {},
   "outputs": [],
   "source": [
    "# Python functions are called (invoked) just like C++ or Java\n",
    "# functions\n",
    "print(add3(1,2,3))"
   ]
  },
  {
   "cell_type": "code",
   "execution_count": null,
   "metadata": {},
   "outputs": [],
   "source": [
    "# Note that Python functions are polymorphic: they can operate on many\n",
    "# different types\n",
    "print(add3(\"this\", \" and \", \"that\"))"
   ]
  },
  {
   "cell_type": "code",
   "execution_count": null,
   "metadata": {},
   "outputs": [],
   "source": [
    "############## Loops ###################################################\n",
    "\n",
    "# For-loops iterate over containers\n",
    "for element in \"hello\":\n",
    "    print(element)"
   ]
  },
  {
   "cell_type": "code",
   "execution_count": null,
   "metadata": {},
   "outputs": [],
   "source": [
    "for element in [1,2,3,4,5,10,100]:\n",
    "    print(element)"
   ]
  },
  {
   "cell_type": "code",
   "execution_count": null,
   "metadata": {},
   "outputs": [],
   "source": [
    "# While loops are obvious\n",
    "count = 0\n",
    "while count < 10:\n",
    "    print(count)\n",
    "    count += 1\n",
    "print(\"done\")"
   ]
  },
  {
   "cell_type": "code",
   "execution_count": null,
   "metadata": {},
   "outputs": [],
   "source": [
    "############## Lists & Dictionaries  ###################################\n",
    "\n",
    "# Lists are a versatile Python container type. They are heterogeneous.\n",
    "\n",
    "lst = [1,'banana',[]]\n",
    "print(type(lst))"
   ]
  },
  {
   "cell_type": "code",
   "execution_count": null,
   "metadata": {},
   "outputs": [],
   "source": [
    "# Subscripting works like it does in C++ arrays or vectors\n",
    "for i in range(len(lst)):\n",
    "    print(lst[i])"
   ]
  },
  {
   "cell_type": "code",
   "execution_count": null,
   "metadata": {},
   "outputs": [],
   "source": [
    "# Dictionaries are hash-tables: they map keys to values\n",
    "d = {\"one\":1, \"two\":2}\n",
    "print(type(d))"
   ]
  },
  {
   "cell_type": "code",
   "execution_count": null,
   "metadata": {},
   "outputs": [],
   "source": [
    "# What is the value associated with the key \"one\"?\n",
    "print(d[\"one\"])"
   ]
  },
  {
   "cell_type": "code",
   "execution_count": null,
   "metadata": {},
   "outputs": [],
   "source": [
    "# How can I add in extra key-value pairs into the dictionary?\n",
    "d[\"three\"] = 3\n",
    "print(d)"
   ]
  },
  {
   "cell_type": "code",
   "execution_count": null,
   "metadata": {},
   "outputs": [],
   "source": [
    "############## Classes #################################################\n",
    "\n",
    "# Use the 'class' keyword to create classes\n",
    "class Base:\n",
    "\n",
    "    # The constructor is called __init__\n",
    "    def __init__(self, arg): \n",
    "        # The equivalent of C++/Java's 'this' is always an explicit\n",
    "        # parameter, and is called 'self'\n",
    "        \n",
    "        # Rather than declaring data members, they are simply stuck\n",
    "        # onto the instance, dynamically, at run-time.\n",
    "        self.arg = arg\n",
    "        # So, the data members you would declare in a class in C++ or\n",
    "        # Java are (usually) stuck onto self in the constructor, in\n",
    "        # Python.\n",
    "\n",
    "    # Methods (member-functions in C++) are simply functions defined\n",
    "    # in the class.\n",
    "    def meth(self, arg): # Don't forget self !\n",
    "        return self.arg + arg"
   ]
  },
  {
   "cell_type": "code",
   "execution_count": null,
   "metadata": {},
   "outputs": [],
   "source": [
    "# You can instantiate a class by calling it\n",
    "b = Base(3)"
   ]
  },
  {
   "cell_type": "code",
   "execution_count": null,
   "metadata": {},
   "outputs": [],
   "source": [
    "# Method invocation looks just like it does in C++ and Java.\n",
    "print(b.meth(4))"
   ]
  },
  {
   "cell_type": "code",
   "execution_count": null,
   "metadata": {},
   "outputs": [],
   "source": [
    "# Inheritance\n",
    "class Derived(Base):\n",
    "\n",
    "    def __init__(self, arg1, arg2):\n",
    "        # Superclass constructors must be called explicitly, if you\n",
    "        # want them to run.\n",
    "        super().__init__(arg1)\n",
    "        # or: Base.__init__(self, arg1)\n",
    "        self.arg2 = arg2\n",
    "\n",
    "    def meth2(self, arg):\n",
    "        return self.arg + self.arg2 + arg"
   ]
  },
  {
   "cell_type": "code",
   "execution_count": null,
   "metadata": {},
   "outputs": [],
   "source": [
    "d = Derived(2,3)"
   ]
  },
  {
   "cell_type": "code",
   "execution_count": null,
   "metadata": {},
   "outputs": [],
   "source": [
    "# Derived has inherited meth()\n",
    "print(d.meth(4))"
   ]
  },
  {
   "cell_type": "code",
   "execution_count": null,
   "metadata": {},
   "outputs": [],
   "source": [
    "# Derived has enlarged the interface it inherited from Base, by adding\n",
    "# meth2()\n",
    "d.meth2(2)"
   ]
  },
  {
   "cell_type": "code",
   "execution_count": null,
   "metadata": {},
   "outputs": [],
   "source": [
    "############## Exception handling  ###################################\n",
    "\n",
    "try:\n",
    "    1/0\n",
    "except ZeroDivisionError:\n",
    "    print(\"Handling ZeroDivisionError\")"
   ]
  }
 ],
 "metadata": {
  "kernelspec": {
   "display_name": "Python 3",
   "language": "python",
   "name": "python3"
  },
  "language_info": {
   "codemirror_mode": {
    "name": "ipython",
    "version": 3
   },
   "file_extension": ".py",
   "mimetype": "text/x-python",
   "name": "python",
   "nbconvert_exporter": "python",
   "pygments_lexer": "ipython3",
   "version": "3.7.3"
  }
 },
 "nbformat": 4,
 "nbformat_minor": 2
}
